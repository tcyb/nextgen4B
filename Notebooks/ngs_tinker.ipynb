{
 "cells": [
  {
   "cell_type": "code",
   "execution_count": 1,
   "metadata": {
    "collapsed": true
   },
   "outputs": [],
   "source": [
    "import nextgenfilter as ngf\n",
    "import nextgenanalyze as nga\n",
    "import ngsCSVAnalyze as csva\n",
    "\n",
    "import yaml\n",
    "import cPickle as pickle\n",
    "import sys, os\n",
    "\n",
    "import pandas as pd\n",
    "\n",
    "import logging\n",
    "import time\n",
    "import progressbar\n",
    "\n",
    "import matplotlib.pyplot as plt\n",
    "\n",
    "%matplotlib inline"
   ]
  },
  {
   "cell_type": "markdown",
   "metadata": {},
   "source": [
    "# Load YAML file, set up things"
   ]
  },
  {
   "cell_type": "code",
   "execution_count": 9,
   "metadata": {
    "collapsed": false
   },
   "outputs": [],
   "source": [
    "folder = r\"C:\\Users\\Ted\\Google Drive\\To File - Research Docs\\Screening\\nextgenAnalysis\\Data\\2015_12_01_AMD\"\n",
    "yfname = folder+'\\\\'+'samples_all.yaml'\n",
    "\n",
    "with open(yfname) as expt_f:\n",
    "    expt_yaml = yaml.load(expt_f)"
   ]
  },
  {
   "cell_type": "code",
   "execution_count": 10,
   "metadata": {
    "collapsed": false
   },
   "outputs": [],
   "source": []
  },
  {
   "cell_type": "code",
   "execution_count": null,
   "metadata": {
    "collapsed": true
   },
   "outputs": [],
   "source": []
  }
 ],
 "metadata": {
  "kernelspec": {
   "display_name": "Python 2",
   "language": "python",
   "name": "python2"
  },
  "language_info": {
   "codemirror_mode": {
    "name": "ipython",
    "version": 2
   },
   "file_extension": ".py",
   "mimetype": "text/x-python",
   "name": "python",
   "nbconvert_exporter": "python",
   "pygments_lexer": "ipython2",
   "version": "2.7.11"
  }
 },
 "nbformat": 4,
 "nbformat_minor": 0
}
