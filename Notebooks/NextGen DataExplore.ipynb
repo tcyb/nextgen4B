{
 "cells": [
  {
   "cell_type": "code",
   "execution_count": 2,
   "metadata": {
    "collapsed": false
   },
   "outputs": [],
   "source": [
    "from Bio import SeqIO, Seq, SeqRecord\n",
    "import gzip, pickle, os\n",
    "import re\n",
    "\n",
    "import yaml\n",
    "\n",
    "import matplotlib.pyplot as plt\n",
    "import numpy as np\n",
    "import pandas as pd\n",
    "\n",
    "import timeit\n",
    "\n",
    "os.chdir(\"C:/Users/Ted/Google Drive/To File - Research Docs/Screening/nextgenAnalysis/\")\n",
    "import nextgenhelp as ngh\n",
    "\n",
    "import logging\n",
    "\n",
    "logger = logging.getLogger()\n",
    "logger.setLevel(logging.DEBUG)\n",
    "\n",
    "%matplotlib inline"
   ]
  },
  {
   "cell_type": "code",
   "execution_count": 3,
   "metadata": {
    "collapsed": false,
    "scrolled": false
   },
   "outputs": [
    {
     "data": {
      "text/plain": [
       "<module 'nextgenhelp' from 'C:\\Users\\Ted\\Google Drive\\To File - Research Docs\\Screening\\nextgenAnalysis\\nextgen4B\\nextgenhelp.pyc'>"
      ]
     },
     "execution_count": 3,
     "metadata": {},
     "output_type": "execute_result"
    }
   ],
   "source": [
    "reload(ngh)"
   ]
  },
  {
   "cell_type": "markdown",
   "metadata": {},
   "source": [
    "#YAML importing"
   ]
  },
  {
   "cell_type": "code",
   "execution_count": 205,
   "metadata": {
    "collapsed": false
   },
   "outputs": [],
   "source": [
    "folder = \"C:/Users/Ted/Google Drive/To File - Research Docs/Screening/nextgenAnalysis/Data/2015_09_03_AMD/\"\n",
    "os.chdir(folder)\n",
    "\n",
    "expt_data_f = open('samples.yaml')\n",
    "samps = yaml.load(expt_data_f) # Should probably make this a class at some point...\n",
    "expt_data_f.close()"
   ]
  },
  {
   "cell_type": "code",
   "execution_count": 206,
   "metadata": {
    "collapsed": true
   },
   "outputs": [],
   "source": [
    "runs = samps['ngsruns']"
   ]
  },
  {
   "cell_type": "code",
   "execution_count": 209,
   "metadata": {
    "collapsed": false
   },
   "outputs": [
    {
     "name": "stdout",
     "output_type": "stream",
     "text": [
      "['TTTTT']\n",
      "['TTTAA']\n",
      "['TTTGG']\n",
      "['TTTCC']\n",
      "['TTGTG']\n",
      "['TTTTT', 'TTTGG', 'TTTAA', 'TTGTG', 'TTTCC']\n"
     ]
    }
   ],
   "source": [
    "for run in runs.keys():\n",
    "    expts = runs[run]['experiments']\n",
    "    \n",
    "    bcs = []\n",
    "    for expt in expts:\n",
    "        bcs.append(samps['experiments'][expt]['barcode'])\n",
    "    print bcs"
   ]
  },
  {
   "cell_type": "code",
   "execution_count": 166,
   "metadata": {
    "collapsed": false
   },
   "outputs": [],
   "source": [
    "run = 'run1'\n",
    "exps = samps['ngsruns'][run]['experiments']"
   ]
  },
  {
   "cell_type": "code",
   "execution_count": 167,
   "metadata": {
    "collapsed": false
   },
   "outputs": [],
   "source": [
    "fname = samps['ngsruns'][run]['f_read_name']\n",
    "fname2 = samps['ngsruns'][run]['pe_read_name']\n",
    "\n",
    "iterator = SeqIO.parse(gzip.open(fname), 'fastq')\n",
    "iterator_pe = SeqIO.parse(gzip.open(fname2), 'fastq')"
   ]
  },
  {
   "cell_type": "code",
   "execution_count": 168,
   "metadata": {
    "collapsed": false
   },
   "outputs": [],
   "source": [
    "bc1_seq = 'TTTTT'\n",
    "bc2_seq = 'TTTGG'\n",
    "bc3_seq = 'TTTAA'\n",
    "bc4_seq = 'TTGTG'\n",
    "bc5_seq = 'TTTCC'\n",
    "\n",
    "# bc_seqs = [bc1_seq, bc2_seq, bc3_seq, bc4_seq, bc5_seq]\n",
    "bc_seqs = [bc1_seq]"
   ]
  },
  {
   "cell_type": "markdown",
   "metadata": {},
   "source": [
    "#Filtering Playground"
   ]
  },
  {
   "cell_type": "code",
   "execution_count": 169,
   "metadata": {
    "collapsed": false
   },
   "outputs": [],
   "source": [
    "# Compile REs for CS1, CS2\n",
    "f_re = re.compile(samps['ngsruns'][run]['filter_seqs']['forward'][0])\n",
    "r_re = re.compile(samps['ngsruns'][run]['filter_seqs']['reverse'][0])"
   ]
  },
  {
   "cell_type": "code",
   "execution_count": 170,
   "metadata": {
    "collapsed": false
   },
   "outputs": [
    {
     "name": "stderr",
     "output_type": "stream",
     "text": [
      "INFO:root:Started regex filter: AGACCAAGTCTCTGCTACCGTA\n",
      "INFO:root:Finished regex filter. Kept 90837 sequences.\n"
     ]
    }
   ],
   "source": [
    "# Filter forward sequences for CS2\n",
    "f_seqs = ngh.filterSeqs(ngh.loadNGSFileToIterator(fname), f_re)"
   ]
  },
  {
   "cell_type": "code",
   "execution_count": 171,
   "metadata": {
    "collapsed": false,
    "scrolled": true
   },
   "outputs": [
    {
     "name": "stderr",
     "output_type": "stream",
     "text": [
      "INFO:root:Started regex filter: TGTAGAACCATGTCGTCAGTGT\n",
      "INFO:root:Finished regex filter. Kept 81138 sequences.\n"
     ]
    }
   ],
   "source": [
    "# Filter paired-end sequences for CS1\n",
    "pe_seqs = ngh.filterSeqs(ngh.loadNGSFileToIterator(fname2), r_re)"
   ]
  },
  {
   "cell_type": "code",
   "execution_count": 172,
   "metadata": {
    "collapsed": false,
    "scrolled": true
   },
   "outputs": [
    {
     "name": "stderr",
     "output_type": "stream",
     "text": [
      "INFO:root:Started barcode demuxing.\n",
      "INFO:root:Finished barcode demuxing. Kept 87449 of 90837 sequences.\n"
     ]
    }
   ],
   "source": [
    "bc_filtered = ngh.barcodeDemux(f_seqs, bc_seqs)"
   ]
  },
  {
   "cell_type": "code",
   "execution_count": 173,
   "metadata": {
    "collapsed": true
   },
   "outputs": [],
   "source": [
    "bc = bc1_seq\n",
    "bcSeqs = bc_filtered\n",
    "\n",
    "seqs = ngh.stripForwardBarcodes(bcSeqs[bc])"
   ]
  },
  {
   "cell_type": "code",
   "execution_count": 174,
   "metadata": {
    "collapsed": false,
    "scrolled": true
   },
   "outputs": [
    {
     "name": "stderr",
     "output_type": "stream",
     "text": [
      "INFO:root:Started Paired-End Filtering\n",
      "INFO:root:Processed 5000 out of 87449\n",
      "INFO:root:Processed 10000 out of 87449\n",
      "INFO:root:Processed 15000 out of 87449\n",
      "INFO:root:Processed 20000 out of 87449\n",
      "INFO:root:Processed 25000 out of 87449\n",
      "INFO:root:Processed 30000 out of 87449\n",
      "INFO:root:Processed 35000 out of 87449\n",
      "INFO:root:Processed 40000 out of 87449\n",
      "INFO:root:Processed 45000 out of 87449\n",
      "INFO:root:Processed 50000 out of 87449\n",
      "INFO:root:Processed 55000 out of 87449\n",
      "INFO:root:Processed 60000 out of 87449\n",
      "INFO:root:Processed 65000 out of 87449\n",
      "INFO:root:Processed 70000 out of 87449\n",
      "INFO:root:Processed 75000 out of 87449\n",
      "INFO:root:Processed 80000 out of 87449\n",
      "INFO:root:Processed 85000 out of 87449\n",
      "INFO:root:Finished Paired-End Filtering\n",
      "INFO:root:Kept 75792 of 87449 forward sequences after coordinate filtering\n",
      "INFO:root:Kept 75791 of 75792 forward sequences after paired-end sequence matching\n"
     ]
    }
   ],
   "source": [
    "seqs = ngh.filterPEMismatches(seqs, pe_seqs, ngh.copiedFunctionGenerator(f_re), \n",
    "            barcode_l=0)"
   ]
  },
  {
   "cell_type": "code",
   "execution_count": 177,
   "metadata": {
    "collapsed": false
   },
   "outputs": [
    {
     "name": "stderr",
     "output_type": "stream",
     "text": [
      "INFO:root:Started Length Filtering\n",
      "INFO:root:Finished Length Filtering. Kept 22764 of 75791 sequences.\n"
     ]
    }
   ],
   "source": [
    "seqs = ngh.seqLenFilter(seqs)"
   ]
  },
  {
   "cell_type": "code",
   "execution_count": 186,
   "metadata": {
    "collapsed": false,
    "scrolled": false
   },
   "outputs": [
    {
     "name": "stderr",
     "output_type": "stream",
     "text": [
      "INFO:root:Started Quality Score Filtering\n",
      "INFO:root:Finished Quality Score Filtering. Kept 18084 of 22764 sequences.\n"
     ]
    }
   ],
   "source": [
    "seqs = ngh.qualityFilter(seqs)"
   ]
  },
  {
   "cell_type": "code",
   "execution_count": 187,
   "metadata": {
    "collapsed": false
   },
   "outputs": [],
   "source": [
    "aTemplateStr = \"\"\"ACACTGACGACATGGTTCTACATTTTTGATGGTCATAGCTGTTGTATTTTTATTTTCATTCATTCATTCATTGCATCCATCGACTGAGCTACTGACGTACTGACTGACTTAGTTATGATTTTAGACCAAGTCTCTGCTACCGTA\"\"\"\n",
    "aTemplate = SeqRecord.SeqRecord(Seq.Seq(aTemplateStr),\n",
    "                                id='Template_for_%s' % (bc))"
   ]
  },
  {
   "cell_type": "code",
   "execution_count": 188,
   "metadata": {
    "collapsed": false
   },
   "outputs": [
    {
     "data": {
      "text/plain": [
       "SeqRecord(seq=Seq('GATGGTCATAGCTGTTGTATTTTTATTTTCATTCATTCATTCATTGCATCCATC...TTT', SingleLetterAlphabet()), id='M03050:15:000000000-AHT3B:1:1101:14620:1227', name='M03050:15:000000000-AHT3B:1:1101:14620:1227', description='M03050:15:000000000-AHT3B:1:1101:14620:1227 1:N:0:57', dbxrefs=[])"
      ]
     },
     "execution_count": 188,
     "metadata": {},
     "output_type": "execute_result"
    }
   ],
   "source": [
    "seqs[0]"
   ]
  },
  {
   "cell_type": "code",
   "execution_count": 196,
   "metadata": {
    "collapsed": false,
    "scrolled": true
   },
   "outputs": [
    {
     "name": "stderr",
     "output_type": "stream",
     "text": [
      "INFO:root:Started alignment-based filtering\n",
      "INFO:root:Began EMBOSS needle routine\n",
      "INFO:root:Finished EMBOSS needle routine\n",
      "INFO:root:Cleaning up temp files\n",
      "INFO:root:Finished alignment-based filtering. Kept 16915 of 18084 sequences.\n"
     ]
    }
   ],
   "source": [
    "reload(ngh.alignfilter)\n",
    "seqs_aln = ngh.alignfilter.alignmentFilter(seqs, aTemplate)"
   ]
  },
  {
   "cell_type": "code",
   "execution_count": 200,
   "metadata": {
    "collapsed": false
   },
   "outputs": [
    {
     "data": {
      "text/plain": [
       "SeqRecord(seq=Seq('---------------------------GATGGTCATAGCTGTTGTATTTTTATT...---', SingleLetterAlphabet()), id='M03050:15:000000000-AHT3B:1:1101:14620:1227', name='<unknown name>', description='M03050:15:000000000-AHT3B:1:1101:14620:1227', dbxrefs=[])"
      ]
     },
     "execution_count": 200,
     "metadata": {},
     "output_type": "execute_result"
    }
   ],
   "source": [
    "seqs_aln[0]"
   ]
  },
  {
   "cell_type": "code",
   "execution_count": 202,
   "metadata": {
    "collapsed": false
   },
   "outputs": [
    {
     "data": {
      "image/png": "[encoded data removed]",
      "text/plain": [
       "<matplotlib.figure.Figure at 0x86cc11d0>"
      ]
     },
     "metadata": {},
     "output_type": "display_data"
    }
   ],
   "source": [
    "plt.figure()\n",
    "plt.hist([s.annotations['alnscore'] for s in seqs_aln], 30)\n",
    "plt.xlabel('Needleman-Wunsch Alignment Score')\n",
    "plt.ylabel('Count')\n",
    "plt.show()"
   ]
  },
  {
   "cell_type": "markdown",
   "metadata": {},
   "source": [
    "# Some Cursory Analysis\n",
    "So, a few things maybe left to take care of on the filtering side of things\n",
    "\n",
    "* Not filtering out all of the CS2 adapters. Specifically it looks like some SNPs are getting through\n",
    "    * These are filtered out by alignment scores for the first dataset, but needs to be general\n",
    "* Q scores... +/-? How do they effect the analysis?"
   ]
  },
  {
   "cell_type": "code",
   "execution_count": 247,
   "metadata": {
    "collapsed": false
   },
   "outputs": [],
   "source": [
    "def getPositionalMisinc(seqs, template, n, letterorder=['C', 'A', 'T', 'G']):\n",
    "    mat = np.zeros([len(letterorder), len(letterorder), len(seqs)])\n",
    "    \n",
    "    for i in range(len(seqs)):\n",
    "        if seqs[i][n] in letterorder and template[n] in letterorder:\n",
    "            # Indexing is [template_bp][sequencing_bp]\n",
    "            mat[letterorder.index(template[n])][letterorder.index(seqs[i][n])][i] += 1\n",
    "            \n",
    "    return mat\n",
    "\n",
    "def getAllPositionMisincs(seqs, template, letterorder=['C', 'A', 'T', 'G']):\n",
    "    mat = np.zeros([len(letterorder), len(letterorder), len(template)])\n",
    "    \n",
    "    for i in range(len(template)):\n",
    "        posMat = getPositionalMisinc(seqs, template, i, letterorder=letterorder)\n",
    "        mat[:,:,i] = np.sum(posMat, axis=2)\n",
    "    \n",
    "    return mat\n",
    "\n",
    "def simpleMisincStats(m, letterorder=['C', 'A', 'T', 'G'], verbose=False):\n",
    "    # Collapse matrix along the z-axis... Maybe don't need to make this default behavior?\n",
    "    # Could also just make it if 'm' has a 3rd dimension...\n",
    "    s_m = np.sum(m, axis=2, dtype='float')\n",
    "    f_m = s_m / np.sum(np.sum(s_m)) # Counts for each divided by total counts\n",
    "    \n",
    "    if verbose:\n",
    "        for i in range(len(letterorder)):\n",
    "            for j in range(len(letterorder)):\n",
    "                print \"%c -> %c: %f%%\" % (letterorder[i], letterorder[j], f_m[i][j]*100)\n",
    "                \n",
    "    return f_m"
   ]
  },
  {
   "cell_type": "code",
   "execution_count": 267,
   "metadata": {
    "collapsed": true
   },
   "outputs": [],
   "source": [
    "import pandas as pd\n",
    "\n",
    "def posMtoPandas(m, letterorder=['C', 'A', 'T', 'G']):\n",
    "    labels = []\n",
    "    for i in range(len(letterorder)):\n",
    "        for j in range(len(letterorder)):\n",
    "            labels.append(letterorder[i]+'->'+letterorder[j])\n",
    "    \n",
    "    df = pd.DataFrame(data=np.zeros([m.shape[2], len(labels)]), columns=labels)\n",
    "    for i in range(len(letterorder)):\n",
    "        for j in range(len(letterorder)):\n",
    "            df[letterorder[i]+'->'+letterorder[j]] = m[i,j,:]\n",
    "    \n",
    "    return df"
   ]
  },
  {
   "cell_type": "code",
   "execution_count": 268,
   "metadata": {
    "collapsed": false
   },
   "outputs": [],
   "source": [
    "foo = posMtoPandas(bigMat)"
   ]
  },
  {
   "cell_type": "code",
   "execution_count": 271,
   "metadata": {
    "collapsed": false
   },
   "outputs": [
    {
     "name": "stdout",
     "output_type": "stream",
     "text": [
      "     C->C  C->A  C->T  C->G  A->C   A->A  A->T  A->G  T->C  T->A   T->T  T->G  \\\n",
      "0       0     0     0     0     0      0     0     0     0     0      0     0   \n",
      "1       0     0     0     0     0      0     0     0     0     0      0     0   \n",
      "2       0     0     0     0     0      0     0     0     0     0      0     0   \n",
      "3       0     0     0     0     0      0     0     0     0     0      0     0   \n",
      "4       0     0     0     0     0      0     0     0     0     0      0     0   \n",
      "5       0     0     0     0     0      0     0     0     0     0      0     0   \n",
      "6       0     0     0     0     0      0     0     0     0     0      0     0   \n",
      "7       0     0     0     0     0      0     0     0     0     0      0     0   \n",
      "8       0     0     0     0     0      0     0     0     0     0      0     0   \n",
      "9       0     0     0     0     0      0     0     0     0     0      0     0   \n",
      "10      0     0     0     0     0      0     0     0     0     0      0     0   \n",
      "11      0     0     0     0     0      0     0     0     0     0      0     0   \n",
      "12      0     0     0     0     0      0     0     0     0     0      0     0   \n",
      "13      0     0     0     0     0      0     0     0     0     0      0     0   \n",
      "14      0     0     0     0     0      0     0     0     0     0      0     0   \n",
      "15      0     0     0     0     0      0     0     0     0     0      0     0   \n",
      "16      0     0     0     0     0      0     0     0     0     0      0     0   \n",
      "17      0     0     0     0     0      0     0     0     0     0      0     0   \n",
      "18      0     0     0     0     0      0     0     0     0     0      0     0   \n",
      "19      0     0     0     0     0      0     0     0     0     0      0     0   \n",
      "20      0     0     0     0     0      0     0     0     0     0      0     0   \n",
      "21      0     0     0     0     0      0     0     0     0     0      0     0   \n",
      "22      0     0     0     0     0      0     0     0     0     0      0     0   \n",
      "23      0     0     0     0     0      0     0     0     0     0      0     0   \n",
      "24      0     0     0     0     0      0     0     0     0     0      0     0   \n",
      "25      0     0     0     0     0      0     0     0     0     0      0     0   \n",
      "26      0     0     0     0     0      0     0     0     0     0      6     2   \n",
      "27      0     0     0     0     0      0     0     0     0     0      0     0   \n",
      "28      0     0     0     0    88  16764     6    45     0     0      0     0   \n",
      "29      0     0     0     0     0      0     0     0    13     2  16874     0   \n",
      "..    ...   ...   ...   ...   ...    ...   ...   ...   ...   ...    ...   ...   \n",
      "114     0     0     0     0     0  16397     3    20     0     0      0     0   \n",
      "115     0     0     0     0     0      0     0     0    20     4  16227    43   \n",
      "116     0     0     0     0     0      0     0     0     0     0      0     0   \n",
      "117     0     0     0     0     0  15545     8    42     0     0      0     0   \n",
      "118     0     0     0     0     0      0     0     0    37     6  15248    17   \n",
      "119     0     0     0     0     0      0     0     0    21     9  15016    19   \n",
      "120     0     0     0     0     0      0     0     0    27     2  14691    58   \n",
      "121     0     0     0     0     0      0     0     0    73     5  12863  1096   \n",
      "122     0     0     0     0     0     20     5     1     0     0      0     0   \n",
      "123     0     0     0     0     0      0     0     0     0     0      0     0   \n",
      "124     0     0     0     0     0     21     0     1     0     0      0     0   \n",
      "125    19     0     5     0     0      0     0     0     0     0      0     0   \n",
      "126    19     0     5     0     0      0     0     0     0     0      0     0   \n",
      "127     0     0     0     0     0     17     5     1     0     0      0     0   \n",
      "128     0     0     0     0     0     19     0    13     0     0      0     0   \n",
      "129     0     0     0     0     0      0     0     0     0     0      0     0   \n",
      "130     0     0     0     0     0      0     0     0     0     0     35     0   \n",
      "131    33     0     1     1     0      0     0     0     0     0      0     0   \n",
      "132     0     0     0     0     0      0     0     0     1     0     35     0   \n",
      "133    19     0     1     0     0      0     0     0     0     0      0     0   \n",
      "134     0     0     0     0     0      0     0     0     0     0     20     0   \n",
      "135     0     0     0     0     0      0     0     0     0     0      0     0   \n",
      "136    19     0     0     0     0      0     0     0     0     0      0     0   \n",
      "137     0     0     0     0     0      0     0     0     0     0     19     0   \n",
      "138     0     0     0     0     0     19     0     0     0     0      0     0   \n",
      "139    19     0     0     0     0      0     0     0     0     0      0     0   \n",
      "140    19     0     0     0     0      0     0     0     0     0      0     0   \n",
      "141     0     0     0     0     0      0     0     0     0     0      0     0   \n",
      "142     0     0     0     0     0      0     0     0     0     0     19     0   \n",
      "143     0     0     0     0     0     11     0     8     0     0      0     0   \n",
      "\n",
      "     G->C  G->A  G->T   G->G  \n",
      "0       0     0     0      0  \n",
      "1       0     0     0      0  \n",
      "2       0     0     0      0  \n",
      "3       0     0     0      0  \n",
      "4       0     0     0      0  \n",
      "5       0     0     0      0  \n",
      "6       0     0     0      0  \n",
      "7       0     0     0      0  \n",
      "8       0     0     0      0  \n",
      "9       0     0     0      0  \n",
      "10      0     0     0      0  \n",
      "11      0     0     0      0  \n",
      "12      0     0     0      0  \n",
      "13      0     0     0      0  \n",
      "14      0     0     0      0  \n",
      "15      0     0     0      0  \n",
      "16      0     0     0      0  \n",
      "17      0     0     0      0  \n",
      "18      0     0     0      0  \n",
      "19      0     0     0      0  \n",
      "20      0     0     0      0  \n",
      "21      0     0     0      0  \n",
      "22      0     0     0      0  \n",
      "23      0     0     0      0  \n",
      "24      0     0     0      0  \n",
      "25      0     0     0      0  \n",
      "26      0     0     0      0  \n",
      "27      6     5     3  16848  \n",
      "28      0     0     0      0  \n",
      "29      0     0     0      0  \n",
      "..    ...   ...   ...    ...  \n",
      "114     0     0     0      0  \n",
      "115     0     0     0      0  \n",
      "116     0     9     1  15759  \n",
      "117     0     0     0      0  \n",
      "118     0     0     0      0  \n",
      "119     0     0     0      0  \n",
      "120     0     0     0      0  \n",
      "121     0     0     0      0  \n",
      "122     0     0     0      0  \n",
      "123     0     0     0     18  \n",
      "124     0     0     0      0  \n",
      "125     0     0     0      0  \n",
      "126     0     0     0      0  \n",
      "127     0     0     0      0  \n",
      "128     0     0     0      0  \n",
      "129     0     0     0     34  \n",
      "130     0     0     0      0  \n",
      "131     0     0     0      0  \n",
      "132     0     0     0      0  \n",
      "133     0     0     0      0  \n",
      "134     0     0     0      0  \n",
      "135     0     0     0     20  \n",
      "136     0     0     0      0  \n",
      "137     0     0     0      0  \n",
      "138     0     0     0      0  \n",
      "139     0     0     0      0  \n",
      "140     0     0     0      0  \n",
      "141     0     0     0     19  \n",
      "142     0     0     0      0  \n",
      "143     0     0     0      0  \n",
      "\n",
      "[144 rows x 16 columns]\n"
     ]
    }
   ],
   "source": [
    "print foo"
   ]
  },
  {
   "cell_type": "code",
   "execution_count": 270,
   "metadata": {
    "collapsed": false
   },
   "outputs": [
    {
     "data": {
      "text/plain": [
       "C->C        0\n",
       "C->A        0\n",
       "C->T        0\n",
       "C->G        0\n",
       "A->C        0\n",
       "A->A        0\n",
       "A->T        0\n",
       "A->G        0\n",
       "T->C        7\n",
       "T->A        0\n",
       "T->T    16906\n",
       "T->G        0\n",
       "G->C        0\n",
       "G->A        0\n",
       "G->T        0\n",
       "G->G        0\n",
       "Name: 50, dtype: float64"
      ]
     },
     "execution_count": 270,
     "metadata": {},
     "output_type": "execute_result"
    }
   ],
   "source": [
    "foo.iloc[50]"
   ]
  },
  {
   "cell_type": "code",
   "execution_count": 228,
   "metadata": {
    "collapsed": false
   },
   "outputs": [
    {
     "data": {
      "text/plain": [
       "(4L, 4L, 16915L)"
      ]
     },
     "execution_count": 228,
     "metadata": {},
     "output_type": "execute_result"
    }
   ],
   "source": [
    "getPositionalMisinc(seqs_aln, aTemplate, 50).shape"
   ]
  },
  {
   "cell_type": "code",
   "execution_count": 225,
   "metadata": {
    "collapsed": false
   },
   "outputs": [],
   "source": [
    "bigMat = getAllPositionMisincs(seqs_aln, aTemplate)"
   ]
  },
  {
   "cell_type": "code",
   "execution_count": 250,
   "metadata": {
    "collapsed": false
   },
   "outputs": [],
   "source": [
    "labels = []\n",
    "letterorder = ['C', 'A', 'T', 'G']\n",
    "\n",
    "for i in range(len(letterorder)):\n",
    "        for j in range(len(letterorder)):\n",
    "            labels.append(letterorder[i]+'->'+letterorder[j])"
   ]
  },
  {
   "cell_type": "code",
   "execution_count": 252,
   "metadata": {
    "collapsed": false
   },
   "outputs": [
    {
     "data": {
      "text/plain": [
       "[array([  0.00000000e+00,   0.00000000e+00,   7.00000000e+00,\n",
       "          0.00000000e+00,   0.00000000e+00,   0.00000000e+00,\n",
       "          0.00000000e+00,   0.00000000e+00,   0.00000000e+00,\n",
       "          0.00000000e+00,   1.69060000e+04,   0.00000000e+00,\n",
       "          0.00000000e+00,   0.00000000e+00,   0.00000000e+00,\n",
       "          0.00000000e+00]),\n",
       " ['C->C',\n",
       "  'C->A',\n",
       "  'C->T',\n",
       "  'C->G',\n",
       "  'A->C',\n",
       "  'A->A',\n",
       "  'A->T',\n",
       "  'A->G',\n",
       "  'T->C',\n",
       "  'T->A',\n",
       "  'T->T',\n",
       "  'T->G',\n",
       "  'G->C',\n",
       "  'G->A',\n",
       "  'G->T',\n",
       "  'G->G']]"
      ]
     },
     "execution_count": 252,
     "metadata": {},
     "output_type": "execute_result"
    }
   ],
   "source": [
    "[foo.reshape(foo.size, order='F'), labels]"
   ]
  },
  {
   "cell_type": "code",
   "execution_count": 254,
   "metadata": {
    "collapsed": false
   },
   "outputs": [
    {
     "data": {
      "text/plain": [
       "'T'"
      ]
     },
     "execution_count": 254,
     "metadata": {},
     "output_type": "execute_result"
    }
   ],
   "source": [
    "aTemplate[50]"
   ]
  },
  {
   "cell_type": "code",
   "execution_count": 240,
   "metadata": {
    "collapsed": false
   },
   "outputs": [
    {
     "name": "stdout",
     "output_type": "stream",
     "text": [
      "[[  0.00000000e+00   0.00000000e+00   0.00000000e+00   0.00000000e+00]\n",
      " [  0.00000000e+00   0.00000000e+00   0.00000000e+00   0.00000000e+00]\n",
      " [  7.00000000e+00   0.00000000e+00   1.69060000e+04   0.00000000e+00]\n",
      " [  0.00000000e+00   0.00000000e+00   0.00000000e+00   0.00000000e+00]]\n"
     ]
    }
   ],
   "source": [
    "foo = bigMat[:,:,50]\n",
    "print foo"
   ]
  },
  {
   "cell_type": "code",
   "execution_count": 246,
   "metadata": {
    "collapsed": false
   },
   "outputs": [
    {
     "data": {
      "text/plain": [
       "array([  0.00000000e+00,   0.00000000e+00,   7.00000000e+00,\n",
       "         0.00000000e+00,   0.00000000e+00,   0.00000000e+00,\n",
       "         0.00000000e+00,   0.00000000e+00,   0.00000000e+00,\n",
       "         0.00000000e+00,   1.69060000e+04,   0.00000000e+00,\n",
       "         0.00000000e+00,   0.00000000e+00,   0.00000000e+00,\n",
       "         0.00000000e+00])"
      ]
     },
     "execution_count": 246,
     "metadata": {},
     "output_type": "execute_result"
    }
   ],
   "source": [
    "foo.reshape(foo.size, order='F')"
   ]
  },
  {
   "cell_type": "code",
   "execution_count": 226,
   "metadata": {
    "collapsed": false
   },
   "outputs": [
    {
     "name": "stdout",
     "output_type": "stream",
     "text": [
      "C -> C: 18.027542%\n",
      "C -> A: 0.006844%\n",
      "C -> T: 0.012182%\n",
      "C -> G: 0.001695%\n",
      "A -> C: 0.015196%\n",
      "A -> A: 22.118363%\n",
      "A -> T: 0.005903%\n",
      "A -> G: 0.029764%\n",
      "T -> C: 0.062039%\n",
      "T -> A: 0.011554%\n",
      "T -> T: 42.721537%\n",
      "T -> G: 0.081819%\n",
      "G -> C: 0.001381%\n",
      "G -> A: 0.010298%\n",
      "G -> T: 0.002323%\n",
      "G -> G: 16.891559%\n"
     ]
    }
   ],
   "source": [
    "f_m = simpleMisincStats(bigMat, verbose=True)"
   ]
  },
  {
   "cell_type": "code",
   "execution_count": 227,
   "metadata": {
    "collapsed": false
   },
   "outputs": [
    {
     "data": {
      "text/plain": [
       "0.24099850490504338"
      ]
     },
     "execution_count": 227,
     "metadata": {},
     "output_type": "execute_result"
    }
   ],
   "source": [
    "(1-f_m.trace())*100"
   ]
  },
  {
   "cell_type": "code",
   "execution_count": 231,
   "metadata": {
    "collapsed": false
   },
   "outputs": [
    {
     "data": {
      "text/plain": [
       "1.0"
      ]
     },
     "execution_count": 231,
     "metadata": {},
     "output_type": "execute_result"
    }
   ],
   "source": [
    "sum(sum(f_m))"
   ]
  },
  {
   "cell_type": "code",
   "execution_count": 274,
   "metadata": {
    "collapsed": false
   },
   "outputs": [],
   "source": [
    "from Bio.Seq import Seq\n",
    "from Bio.SeqRecord import SeqRecord\n",
    "\n",
    "tempSeq = SeqRecord(Seq(aTemplateStr), id='template', name='template')"
   ]
  },
  {
   "cell_type": "code",
   "execution_count": 275,
   "metadata": {
    "collapsed": false
   },
   "outputs": [
    {
     "data": {
      "text/plain": [
       "SeqRecord(seq=Seq('ACACTGACGACATGGTTCTACATTTTTGATGGTCATAGCTGTTGTATTTTTATT...GTA', Alphabet()), id='template', name='template', description='<unknown description>', dbxrefs=[])"
      ]
     },
     "execution_count": 275,
     "metadata": {},
     "output_type": "execute_result"
    }
   ],
   "source": [
    "tempSeq"
   ]
  },
  {
   "cell_type": "code",
   "execution_count": null,
   "metadata": {
    "collapsed": true
   },
   "outputs": [],
   "source": []
  }
 ],
 "metadata": {
  "kernelspec": {
   "display_name": "Python 2",
   "language": "python",
   "name": "python2"
  },
  "language_info": {
   "codemirror_mode": {
    "name": "ipython",
    "version": 2
   },
   "file_extension": ".py",
   "mimetype": "text/x-python",
   "name": "python",
   "nbconvert_exporter": "python",
   "pygments_lexer": "ipython2",
   "version": "2.7.9"
  }
 },
 "nbformat": 4,
 "nbformat_minor": 0
}
