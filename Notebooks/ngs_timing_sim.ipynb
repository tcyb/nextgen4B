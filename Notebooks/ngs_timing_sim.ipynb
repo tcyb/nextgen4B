{
 "cells": [
  {
   "cell_type": "code",
   "execution_count": 2,
   "metadata": {
    "collapsed": true
   },
   "outputs": [],
   "source": [
    "import numpy as np\n",
    "import pymc"
   ]
  },
  {
   "cell_type": "markdown",
   "metadata": {},
   "source": [
    "# Some brief outlining of parameters\n",
    "\n",
    "We want to simulate strands either falling under lo-fi or hi-fi conditions. We have $n$ steps (for our experiments, it will be 3 or 5). Each step can either be completed quickly ($\\lambda_{fast}$) or slowly ($\\lambda_{slow}$), corresponding to which condition it was done under. There should also be a prior over the initial start time defined by general reaction parameters (how many strands are being extended at any given time, etc.).\n",
    "\n",
    "The only output we'll have is errors. This can be translated to a probability that the site was written before or after our spike (well, really, a probability).\n",
    "\n",
    "$$ P\\left(e_i\\right) = P\\left(e_i | \\tau_0 + \\tau_1 + \\dots + \\tau_i < T\\right) P\\left(\\tau_0 + \\tau_1 + \\dots + \\tau_i < T\\right) + P\\left(e_i | \\tau_0 + \\tau_1 + \\dots + \\tau_i > T\\right) P\\left(\\tau_0 + \\tau_1 + \\dots + \\tau_i > T\\right) $$\n",
    "\n",
    "Where $e_i$ is the probability of an error at site $i$, $\\tau_0$ is the time between experiment start and DNAP binding, and $\\tau_i$ for $i \\in [1,N]$ are the time it takes to incorporate section $i$. We assume:\n",
    "\n",
    "$$ \\tau_i \\sim Exp\\left[\\lambda_{slow}\\right] $$\n",
    "\n",
    "For $i \\in [1,N]$. We're not sure about the distribution of start times... probably some kind of gamma.\n",
    "\n",
    "# Analysis approaches?\n",
    "\n",
    "Can we do this analyitically? Get an expression for $\\tau_0 + \\tau_1 + \\dots + \\tau_i$"
   ]
  },
  {
   "cell_type": "code",
   "execution_count": null,
   "metadata": {
    "collapsed": true
   },
   "outputs": [],
   "source": []
  }
 ],
 "metadata": {
  "kernelspec": {
   "display_name": "Python 2",
   "language": "python",
   "name": "python2"
  },
  "language_info": {
   "codemirror_mode": {
    "name": "ipython",
    "version": 2
   },
   "file_extension": ".py",
   "mimetype": "text/x-python",
   "name": "python",
   "nbconvert_exporter": "python",
   "pygments_lexer": "ipython2",
   "version": "2.7.11"
  }
 },
 "nbformat": 4,
 "nbformat_minor": 0
}
