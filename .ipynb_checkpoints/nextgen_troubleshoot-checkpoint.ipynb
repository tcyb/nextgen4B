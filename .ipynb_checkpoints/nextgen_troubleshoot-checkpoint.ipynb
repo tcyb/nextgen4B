{
 "cells": [
  {
   "cell_type": "code",
   "execution_count": 1,
   "metadata": {
    "collapsed": true
   },
   "outputs": [],
   "source": [
    "import nextgenfilter as ngf\n",
    "import nextgenanalyze as nga\n",
    "\n",
    "import yaml\n",
    "import cPickle as pickle\n",
    "import sys\n",
    "import os\n",
    "\n",
    "import logging\n",
    "import time\n",
    "\n",
    "logger = logging.getLogger()\n",
    "logger.setLevel(logging.DEBUG)\n",
    "\n",
    "%matplotlib inline"
   ]
  },
  {
   "cell_type": "code",
   "execution_count": 2,
   "metadata": {
    "collapsed": false
   },
   "outputs": [
    {
     "data": {
      "text/plain": [
       "<module 'nextgenfilter' from 'nextgenfilter.pyc'>"
      ]
     },
     "execution_count": 2,
     "metadata": {},
     "output_type": "execute_result"
    }
   ],
   "source": [
    "reload(nga)\n",
    "reload(ngf)"
   ]
  },
  {
   "cell_type": "code",
   "execution_count": 3,
   "metadata": {
    "collapsed": false
   },
   "outputs": [],
   "source": [
    "os.chdir(\"C:/Users/Ted/Google Drive/To File - Research Docs/Screening/nextgenAnalysis/Data/2015_09_03_AMD\")"
   ]
  },
  {
   "cell_type": "code",
   "execution_count": 4,
   "metadata": {
    "collapsed": false
   },
   "outputs": [
    {
     "name": "stderr",
     "output_type": "stream",
     "text": [
      "INFO:root:Loaded YAML experiment file samples.yaml\n"
     ]
    }
   ],
   "source": [
    "yfname = 'samples.yaml'\n",
    "\n",
    "expt_f = open(yfname)\n",
    "expt_yaml = yaml.load(expt_f) # Should probably make this a class at some point...\n",
    "expt_f.close()\n",
    "logging.info('Loaded YAML experiment file '+yfname)"
   ]
  },
  {
   "cell_type": "code",
   "execution_count": 5,
   "metadata": {
    "collapsed": false
   },
   "outputs": [
    {
     "name": "stderr",
     "output_type": "stream",
     "text": [
      "INFO:root:Found NGS Runs: run2\n"
     ]
    }
   ],
   "source": [
    "runs = expt_yaml['ngsruns']\n",
    "logging.info('Found NGS Runs: '+', '.join(runs))"
   ]
  },
  {
   "cell_type": "code",
   "execution_count": 7,
   "metadata": {
    "collapsed": false
   },
   "outputs": [],
   "source": [
    "run = 'run2'"
   ]
  },
  {
   "cell_type": "code",
   "execution_count": 8,
   "metadata": {
    "collapsed": false
   },
   "outputs": [
    {
     "name": "stderr",
     "output_type": "stream",
     "text": [
      "INFO:root:Performing routine for NGS Run run2\n",
      "INFO:root:Found experiments exp2\n"
     ]
    }
   ],
   "source": [
    "logging.info('Performing routine for NGS Run '+run)\n",
    "expts = runs[run]['experiments']\n",
    "logging.info('Found experiments '+', '.join(expts))\n",
    "\n",
    "bcs = {}\n",
    "templates = {}\n",
    "for expt in expts:\n",
    "    bcs[expt] = expt_yaml['experiments'][expt]['barcode']\n",
    "    templates[expt] = expt_yaml['experiments'][expt]['template_seq']"
   ]
  },
  {
   "cell_type": "code",
   "execution_count": 9,
   "metadata": {
    "collapsed": false
   },
   "outputs": [],
   "source": [
    "fName = runs[run]['f_read_name']\n",
    "peName = runs[run]['pe_read_name']\n",
    "f_filt_seqs = runs[run]['filter_seqs']['forward']\n",
    "r_filt_seqs = runs[run]['filter_seqs']['reverse']"
   ]
  },
  {
   "cell_type": "code",
   "execution_count": 10,
   "metadata": {
    "collapsed": false
   },
   "outputs": [
    {
     "name": "stderr",
     "output_type": "stream",
     "text": [
      "INFO:root:Loading Files\n"
     ]
    }
   ],
   "source": [
    "logging.info('Loading Files')\n",
    "fSeqs = list(ngf.loadNGSFileToIterator(fName))\n",
    "peSeqs = list(ngf.loadNGSFileToIterator(peName))\n",
    "\n",
    "# Do regex-based filtering\n",
    "fREs = ngf.compileREs(f_filt_seqs)\n",
    "peREs = ngf.compileREs(r_filt_seqs)"
   ]
  },
  {
   "cell_type": "code",
   "execution_count": 11,
   "metadata": {
    "collapsed": false
   },
   "outputs": [
    {
     "name": "stderr",
     "output_type": "stream",
     "text": [
      "INFO:root:Started regex filter: AGACCAAGTCTCTGCTACCGTA\n",
      "INFO:root:Finished regex filter. Kept 125548 sequences.\n",
      "INFO:root:Started regex filter: TGTAGAACCATGTCGTCAGTGT\n",
      "INFO:root:Finished regex filter. Kept 122786 sequences.\n",
      "INFO:root:Started barcode demuxing.\n",
      "INFO:root:Finished barcode demuxing. Kept 124134 of 125548 sequences.\n"
     ]
    }
   ],
   "source": [
    "for regex in fREs:\n",
    "    fSeqs = ngf.filterSeqs(fSeqs, regex)\n",
    "\n",
    "for regex in peREs:\n",
    "    peSeqs = ngf.filterSeqs(peSeqs, regex)\n",
    "\n",
    "bcSeqs = ngf.barcodeDemux(fSeqs, bcs)"
   ]
  },
  {
   "cell_type": "code",
   "execution_count": 12,
   "metadata": {
    "collapsed": false
   },
   "outputs": [
    {
     "name": "stderr",
     "output_type": "stream",
     "text": [
      "INFO:root:Starting post-demux filtering for expt ID exp2\n",
      "INFO:root:Started Paired-End Filtering\n",
      "INFO:root:Processed 5000 out of 124134\n",
      "INFO:root:Processed 10000 out of 124134\n",
      "INFO:root:Processed 15000 out of 124134\n",
      "INFO:root:Processed 20000 out of 124134\n",
      "INFO:root:Processed 25000 out of 124134\n",
      "INFO:root:Processed 30000 out of 124134\n",
      "INFO:root:Processed 35000 out of 124134\n",
      "INFO:root:Processed 40000 out of 124134\n",
      "INFO:root:Processed 45000 out of 124134\n",
      "INFO:root:Processed 50000 out of 124134\n",
      "INFO:root:Processed 55000 out of 124134\n",
      "INFO:root:Processed 60000 out of 124134\n",
      "INFO:root:Processed 65000 out of 124134\n",
      "INFO:root:Processed 70000 out of 124134\n",
      "INFO:root:Processed 75000 out of 124134\n",
      "INFO:root:Processed 80000 out of 124134\n",
      "INFO:root:Processed 85000 out of 124134\n",
      "INFO:root:Processed 90000 out of 124134\n",
      "INFO:root:Processed 95000 out of 124134\n",
      "INFO:root:Processed 100000 out of 124134\n",
      "INFO:root:Processed 105000 out of 124134\n",
      "INFO:root:Processed 110000 out of 124134\n",
      "INFO:root:Processed 115000 out of 124134\n",
      "INFO:root:Processed 120000 out of 124134\n",
      "INFO:root:Finished Paired-End Filtering\n",
      "INFO:root:Kept 118481 of 124134 forward sequences after coordinate filtering\n",
      "INFO:root:Kept 118481 of 118481 forward sequences after paired-end sequence matching\n",
      "INFO:root:Started Length Filtering\n",
      "INFO:root:Finished Length Filtering. Kept 78584 of 118481 sequences.\n",
      "INFO:root:Started Quality Score Filtering\n",
      "INFO:root:Finished Quality Score Filtering. Kept 54382 of 78584 sequences.\n"
     ]
    }
   ],
   "source": [
    "for expt in bcs.keys():\n",
    "    logging.info('Starting post-demux filtering for expt ID %s' % expt)\n",
    "\n",
    "    # Filter based on PE matches, only return the copied sequence\n",
    "    # Assumes the first RE in fREs will terminate the copied sequence\n",
    "    seqs = ngf.filterPEMismatches(bcSeqs[expt], peSeqs, ngf.copiedFunctionGenerator(fREs[0]))\n",
    "\n",
    "    # Length Filtering (needs to only have copied sequence)\n",
    "    seqs = ngf.seqLenFilter(seqs)\n",
    "\n",
    "    # Quality Filtering (needs to only have copied sequence)\n",
    "    seqs = ngf.qualityFilter(seqs)\n",
    "    \n",
    "    seqs = ngf.stripForwardBarcodes(seqs)\n",
    "    \n",
    "    # Do alignment-based filtering\n",
    "    seqs = ngf.alignfilter.alignmentFilter(seqs, templates[expt])\n",
    "\n",
    "    bcSeqs[expt] = seqs"
   ]
  },
  {
   "cell_type": "code",
   "execution_count": 16,
   "metadata": {
    "collapsed": false
   },
   "outputs": [
    {
     "data": {
      "text/plain": [
       "105"
      ]
     },
     "execution_count": 16,
     "metadata": {},
     "output_type": "execute_result"
    }
   ],
   "source": [
    "len(str(seqs[0].seq))"
   ]
  },
  {
   "cell_type": "code",
   "execution_count": 17,
   "metadata": {
    "collapsed": false
   },
   "outputs": [
    {
     "data": {
      "text/plain": [
       "'TTTGGGGGCTAGTCGTCTGTATAGGTCTCCGCTTCTTTCCTTTCCTTTCCATGCTTCTTCTCTCTCCTTTTTGTTTGCTGTTTGGTGTTGTTTTGGGTGTTCTCT'"
      ]
     },
     "execution_count": 17,
     "metadata": {},
     "output_type": "execute_result"
    }
   ],
   "source": [
    "str(seqs[0].seq)"
   ]
  },
  {
   "cell_type": "code",
   "execution_count": 19,
   "metadata": {
    "collapsed": false
   },
   "outputs": [],
   "source": [
    "seqs2 = ngf.stripForwardBarcodes(seqs)"
   ]
  },
  {
   "cell_type": "code",
   "execution_count": 22,
   "metadata": {
    "collapsed": false
   },
   "outputs": [
    {
     "data": {
      "text/plain": [
       "100"
      ]
     },
     "execution_count": 22,
     "metadata": {},
     "output_type": "execute_result"
    }
   ],
   "source": [
    "len(str(seqs2[0].seq))"
   ]
  },
  {
   "cell_type": "code",
   "execution_count": 49,
   "metadata": {
    "collapsed": true
   },
   "outputs": [],
   "source": [
    "aln_seqs = seqs"
   ]
  },
  {
   "cell_type": "code",
   "execution_count": 50,
   "metadata": {
    "collapsed": true
   },
   "outputs": [],
   "source": [
    "pickle.dump(aln_seqs, open('aln_seqs_'+run+'.p', 'w'))"
   ]
  },
  {
   "cell_type": "code",
   "execution_count": 51,
   "metadata": {
    "collapsed": false,
    "scrolled": true
   },
   "outputs": [
    {
     "name": "stderr",
     "output_type": "stream",
     "text": [
      "INFO:root:Started Analysis\n",
      "INFO:root:Finished Analysis\n"
     ]
    }
   ],
   "source": [
    "analyzed_data = nga.doAnalysis(aln_seqs, templates[expt])"
   ]
  },
  {
   "cell_type": "code",
   "execution_count": null,
   "metadata": {
    "collapsed": true
   },
   "outputs": [],
   "source": []
  }
 ],
 "metadata": {
  "kernelspec": {
   "display_name": "Python 2",
   "language": "python",
   "name": "python2"
  },
  "language_info": {
   "codemirror_mode": {
    "name": "ipython",
    "version": 2
   },
   "file_extension": ".py",
   "mimetype": "text/x-python",
   "name": "python",
   "nbconvert_exporter": "python",
   "pygments_lexer": "ipython2",
   "version": "2.7.9"
  }
 },
 "nbformat": 4,
 "nbformat_minor": 0
}
